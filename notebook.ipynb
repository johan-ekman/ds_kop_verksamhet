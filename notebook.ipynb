{
 "cells": [
  {
   "cell_type": "code",
   "execution_count": 1,
   "metadata": {},
   "outputs": [],
   "source": [
    "import pandas as pd\n",
    "\n",
    "import warnings\n",
    "import os\n",
    "\n",
    "warnings.filterwarnings('ignore')"
   ]
  },
  {
   "cell_type": "markdown",
   "metadata": {},
   "source": [
    "Februari 2019\n",
    "\n",
    "I nummer 6 2019 gjorde vi en grej på kommunernas och regionernas köp av verksamhet. Siffrorna är hämtade från Kolada och heter där för kommuner N00120 (föreningar) och N00119 (privata företag), och för regioner N60092 (föreningar) och N60088 (privata företag). Kroken är att SKL släpper i veckan en rapport i ämnet som heter _Köp av verksamhet 2017_. Resultatet i tidningen [kan man se här](https://dagenssamhalle.e-pages.pub/titles/dagenssamhalle/8599/publications/365/pages/2), och [webbpubliceringen hittar man här](https://dagenssamhalle.se/nyhet/stora-skillnader-i-kop-fran-privata-utforare-26128).\n",
    "\n"
   ]
  },
  {
   "cell_type": "code",
   "execution_count": 2,
   "metadata": {},
   "outputs": [],
   "source": [
    "df = pd.read_excel('data/kommuner.xls')"
   ]
  },
  {
   "cell_type": "code",
   "execution_count": 3,
   "metadata": {},
   "outputs": [],
   "source": [
    "def data_formatting(var,all_years=False):\n",
    "    df = pd.read_excel(f'data/{var}.xls')\n",
    "    \n",
    "    # namn på värden att byta ut\n",
    "    föreningar = df.loc[df.iloc[:,0].str.contains('förening')].iloc[0,0]\n",
    "    företag = df.loc[df.iloc[:,0].str.contains('företag')].iloc[0,0]\n",
    "    \n",
    "    # kolumnformattering\n",
    "    df.columns = ['vars',f'{var}','år','andel']\n",
    "    df = df[[f'{var}','år','vars','andel']]\n",
    "    \n",
    "    df.loc[df['vars']==företag,'vars'] = 'företag'\n",
    "    df.loc[df['vars']==föreningar,'vars'] = 'föreningar'\n",
    "    \n",
    "    max_år = str(df.år.max())\n",
    "    \n",
    "    # separat df för att beräkna andel för föreningar\n",
    "    tmp = df.loc[df['år']==df.år.max()]\n",
    "\n",
    "    tmp = tmp.pivot_table(index=f'{var}',columns='vars',values='andel')\n",
    "    \n",
    "    tmp[f'andel_förening_{max_år}']\\\n",
    "    = ((tmp['föreningar'] / tmp.sum(1))*100).round(1)\n",
    "\n",
    "    tmp = tmp.reset_index()[[f'{var}',f'andel_förening_{max_år}']]\n",
    "    \n",
    "    # summerar företagandelar och föreningsandelar\n",
    "    df = df.groupby([f'{var}','år']).sum().reset_index()\n",
    "\n",
    "    df = df.pivot_table(index=f'{var}',columns='år').reset_index()\n",
    "\n",
    "    df.columns = df.columns.droplevel(0)\n",
    "    \n",
    "    if not all_years:\n",
    "        df = df.iloc[:,[0,1,-1]]\n",
    "        df.columns = [f'{var}',df.columns[1],df.columns[-1]]\n",
    "    else:\n",
    "        df.columns = [f'{var}'] + df.columns[1:].tolist()\n",
    "    \n",
    "    # förändring i procentenheter\n",
    "    df['förändring'] = df.iloc[:,-1] - df.iloc[:,1]\n",
    "\n",
    "    df = df.sort_values(int(max_år),ascending=False).reset_index(drop=True)\n",
    "\n",
    "    return df.merge(tmp,on=f'{var}',how='left')"
   ]
  },
  {
   "cell_type": "code",
   "execution_count": 4,
   "metadata": {},
   "outputs": [],
   "source": [
    "regs = [x[:-4] for x in os.listdir('data')]"
   ]
  },
  {
   "cell_type": "code",
   "execution_count": 5,
   "metadata": {},
   "outputs": [],
   "source": [
    "kompl = data_formatting(regs[0],all_years=True).sort_values('förändring',ascending=False)"
   ]
  },
  {
   "cell_type": "code",
   "execution_count": 6,
   "metadata": {},
   "outputs": [],
   "source": [
    "kompl = kompl.set_index('regioner')"
   ]
  },
  {
   "cell_type": "code",
   "execution_count": 7,
   "metadata": {},
   "outputs": [],
   "source": [
    "for col in kompl.columns[:-1]:\n",
    "    kompl[col] = kompl[col].round(1)"
   ]
  },
  {
   "cell_type": "code",
   "execution_count": 8,
   "metadata": {},
   "outputs": [],
   "source": [
    "os.makedirs('res')"
   ]
  },
  {
   "cell_type": "code",
   "execution_count": 9,
   "metadata": {},
   "outputs": [],
   "source": [
    "kompl.reset_index().to_excel('res/alla_reg.xlsx',index=False)"
   ]
  },
  {
   "cell_type": "code",
   "execution_count": 10,
   "metadata": {},
   "outputs": [],
   "source": [
    "for reg in regs:\n",
    "    data_formatting(reg).to_excel(f'res/{reg}.xlsx',index=False)"
   ]
  },
  {
   "cell_type": "code",
   "execution_count": null,
   "metadata": {},
   "outputs": [],
   "source": []
  },
  {
   "cell_type": "code",
   "execution_count": null,
   "metadata": {},
   "outputs": [],
   "source": []
  },
  {
   "cell_type": "code",
   "execution_count": null,
   "metadata": {},
   "outputs": [],
   "source": []
  }
 ],
 "metadata": {
  "kernelspec": {
   "display_name": "Python 3",
   "language": "python",
   "name": "python3"
  },
  "language_info": {
   "codemirror_mode": {
    "name": "ipython",
    "version": 3
   },
   "file_extension": ".py",
   "mimetype": "text/x-python",
   "name": "python",
   "nbconvert_exporter": "python",
   "pygments_lexer": "ipython3",
   "version": "3.6.2"
  }
 },
 "nbformat": 4,
 "nbformat_minor": 2
}
